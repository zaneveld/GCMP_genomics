{
 "cells": [
  {
   "cell_type": "markdown",
   "metadata": {},
   "source": [
    "#This code will compare two files for Pfam domains"
   ]
  },
  {
   "cell_type": "code",
   "execution_count": 1,
   "metadata": {},
   "outputs": [],
   "source": [
    "#!/usr/bin/python\n",
    "from collections import defaultdict\n",
    "import pandas as pd\n",
    "from os.path import exists, join\n",
    "import pdb\n",
    "import os\n",
    "import re\n",
    "import csv"
   ]
  },
  {
   "cell_type": "code",
   "execution_count": null,
   "metadata": {},
   "outputs": [],
   "source": []
  },
  {
   "cell_type": "code",
   "execution_count": 2,
   "metadata": {},
   "outputs": [
    {
     "name": "stdout",
     "output_type": "stream",
     "text": [
      "Confirmed that required file or directory ../input/ exists.\n",
      "Confirmed that required file or directory ../output/hmmer_txt_output/braker3_gff exists.\n",
      "Confirmed that required file or directory ../output/hmmer_txt_output/braker3_gff/TLR_output_files exists.\n"
     ]
    }
   ],
   "source": [
    "input_hmmer_dir = \"../output/hmmer_txt_output/braker3_gff\"\n",
    "input_dir = \"../input/\"\n",
    "\n",
    "output_dir = \"../output/hmmer_txt_output/braker3_gff/TLR_output_files\"\n",
    "output_file_pfam = \"Pfam_domain_similarity_braker3_lrr_manual.tsv\"\n",
    "output_filepath = join(output_dir,output_file_pfam)\n",
    "\n",
    "\n",
    "required = [input_dir,input_hmmer_dir,output_dir]\n",
    "\n",
    "for r in required:\n",
    "    if not exists(r):\n",
    "        raise FileNotFoundError(f\"The specified hmmer file {r} does not seem to be in the specified path.\")\n",
    "    print(f\"Confirmed that required file or directory {r} exists.\")\n"
   ]
  },
  {
   "cell_type": "code",
   "execution_count": 3,
   "metadata": {},
   "outputs": [],
   "source": [
    "#prepare the output file for the loop by adding column names to both files\n",
    "column_names = [\"Species\", \"Pfam_domains_compared\", \"Isoform_ID\"]\n",
    "with open(output_filepath, 'w') as output_pfam:\n",
    "    output_pfam.write(\"%s\" % \"\\t\".join(column_names)+\"\\n\")"
   ]
  },
  {
   "cell_type": "code",
   "execution_count": 7,
   "metadata": {},
   "outputs": [],
   "source": [
    "def find_shared_domains(file_1,file_2):\n",
    "    \"\"\" Print results of matching target sequence names from two HMMER text outputs.\n",
    "    File_1 -- text file of HMMER output.\n",
    "    File_2 -- text tile of second HMMER output to be compared.\n",
    "    \"\"\"\n",
    "    names = [\"target_name\", \"accession description\", \"query name\", \"accession\",\\\n",
    "            \"full sequence E-value\", \"full sequence score\", \"full sequence bias\",\\\n",
    "            \"best 1 domain E-value\", \"best domain score\", \"best domain bias\",\\\n",
    "            \"domain number estimation exp\", \"domain number estimation reg\",\\\n",
    "            \"domain number estimation clu\", \"domain number estimation ov\",\\\n",
    "            \"domain number estimation env\", \"domain number estimation dom\",\\\n",
    "            \"domain number estimation rep\", \"domain number estimation inc\",\\\n",
    "            \"description of target\"]\n",
    "    df_1 = pd.read_csv(file_1, sep=\"\\s+\", comment = \"#\", index_col = False, names=names)\n",
    "    df_2 = pd.read_csv(file_2, sep=\"\\s+\", comment = \"#\", index_col = False, names=names)\n",
    "    #need to filter out output values so that only values less than 0.1 remain\n",
    "    df_1_filter = df_1[(df_1[\"full sequence E-value\"]<.0000000001)]\n",
    "    df_1_target = df_1_filter[\"target_name\"]\n",
    "    #need to compare only the gene id values rather than the isoform values (i.e the values after the .p)\n",
    "    df_1_target_strip = df_1_target.str.split('.t').str[0]\n",
    "    #df_1_target_strip = df_1_target.str.split('.1.p').str[0]\n",
    "    df_1_target_names = set(df_1_target_strip)\n",
    "    #need to filter out output values so that only values less than 0.1 remain\n",
    "    df_2_filter = df_2[(df_2[\"full sequence E-value\"]<.0000000001)]\n",
    "    df_2_target = df_2[\"target_name\"]\n",
    "    df_2_target_strip = df_2_target.str.split('.t').str[0]\n",
    "    #df_2_target_strip = df_2_target.str.split('.1.p').str[0]\n",
    "    df_2_target_names = set(df_2_target_strip)\n",
    "    shared_target_names = df_1_target_names.intersection(df_2_target_names)\n",
    "    #print(shared_target_names)\n",
    "    return shared_target_names"
   ]
  },
  {
   "cell_type": "code",
   "execution_count": 8,
   "metadata": {},
   "outputs": [
    {
     "name": "stdout",
     "output_type": "stream",
     "text": [
      "a_hyactintus_soft_mask_braker_filtered_proteins_PF18017_full_profile_hmmer_braker3_gff_results.txt\n",
      "a_hyactintus_soft_mask_braker_filtered_proteins_PF01463_full_profile_hmmer_braker3_gff_results.txt\n",
      "a_hyactintus_soft_mask_braker_filtered_proteins_PF13927_full_profile_hmmer_braker3_gff_results.txt\n",
      "a_hyactintus_soft_mask_braker_filtered_proteins_PF18837_full_profile_hmmer_braker3_gff_results.txt\n",
      "a_hyactintus_soft_mask_braker_filtered_proteins_PF00047_full_profile_hmmer_braker3_gff_results.txt\n",
      "a_hyactintus_soft_mask_braker_filtered_proteins_PF18452_full_profile_hmmer_braker3_gff_results.txt\n",
      "a_hyactintus_soft_mask_braker_filtered_proteins_PF00069_seed_profile_hmmer_braker3_gff_results.txt\n",
      "a_hyactintus_soft_mask_braker_filtered_proteins_PF13855_full_profile_hmmer_braker3_gff_results.txt\n",
      "a_hyactintus_soft_mask_braker_filtered_proteins_PF12799_full_profile_hmmer_braker3_gff_results.txt\n",
      "a_hyactintus_soft_mask_braker_filtered_proteins_PF01582_full_up_profile_hmmer_braker3_gff_results.txt\n",
      "a_hyactintus_soft_mask_braker_filtered_proteins_PF00560_full_profile_hmmer_braker3_gff_results.txt\n",
      "a_hyactintus_soft_mask_braker_filtered_proteins_PF01419_full_profile_hmmer_braker3_gff_results.txt\n",
      "a_hyactintus_soft_mask_braker_filtered_proteins_PF13516_full_profile_hmmer_braker3_gff_results.txt\n",
      "a_hyactintus_soft_mask_braker_filtered_proteins_PF18052_full_profile_hmmer_braker3_gff_results.txt\n",
      "a_hyactintus_soft_mask_braker_filtered_proteins_PF07647_full_profile_hmmer_braker3_gff_results.txt\n",
      "a_hyactintus_soft_mask_braker_filtered_proteins_PF13966_full_profile_hmmer_braker3_gff_results.txt\n",
      "a_hyactintus_soft_mask_braker_filtered_proteins_PF17968_full_profile_hmmer_braker3_gff_results.txt\n",
      "a_hyactintus_soft_mask_braker_filtered_proteins_PF00564_full_profile_hmmer_braker3_gff_results.txt\n",
      "a_hyactintus_soft_mask_braker_filtered_proteins_PF13306_full_profile_hmmer_braker3_gff_results.txt\n",
      "a_hyactintus_soft_mask_braker_filtered_proteins_PF13927_seed_profile_hmmer_braker3_gff_results.txt\n",
      "a_hyactintus_soft_mask_braker_filtered_proteins_PF00531_full_profile_hmmer_braker3_gff_results.txt\n",
      "a_hyactintus_soft_mask_braker_filtered_proteins_PF14299_full_profile_hmmer_braker3_gff_results.txt\n",
      "a_hyactintus_soft_mask_braker_filtered_proteins_PF18805_full_profile_hmmer_braker3_gff_results.txt\n",
      "a_hyactintus_soft_mask_braker_filtered_proteins_PF18831_full_profile_hmmer_braker3_gff_results.txt\n",
      "a_hyactintus_soft_mask_braker_filtered_proteins_PF07725_full_profile_hmmer_braker3_gff_results.txt\n",
      "a_hyactintus_soft_mask_braker_filtered_proteins_PF13895_full_profile_hmmer_braker3_gff_results.txt\n",
      "a_hyactintus_soft_mask_braker_filtered_proteins_PF18016_full_profile_hmmer_braker3_gff_results.txt\n",
      "a_hyactintus_soft_mask_braker_filtered_proteins_PF00931_full_profile_hmmer_braker3_gff_results.txt\n",
      "a_hyactintus_soft_mask_braker_filtered_proteins_PF13456_full_profile_hmmer_braker3_gff_results.txt\n",
      "a_hyactintus_soft_mask_braker_filtered_proteins_PF13499_full_profile_hmmer_braker3_gff_results.txt\n",
      "a_hyactintus_soft_mask_braker_filtered_proteins_PF07723_full_profile_hmmer_braker3_gff_results.txt\n",
      "a_hyactintus_soft_mask_braker_filtered_proteins_PF01582_full_profile_hmmer_braker3_gff_results.txt\n",
      "a_hyactintus_soft_mask_braker_filtered_proteins_PF13519_full_profile_hmmer_braker3_gff_results.txt\n",
      "a_hyactintus_soft_mask_braker_filtered_proteins_PF14580_full_profile_hmmer_braker3_gff_results.txt\n",
      "a_hyactintus_soft_mask_braker_filtered_proteins_PF12721_full_profile_hmmer_braker3_gff_results.txt\n",
      "a_hyactintus_soft_mask_braker_filtered_proteins_PF00536_full_profile_hmmer_braker3_gff_results.txt\n"
     ]
    }
   ],
   "source": [
    "#choose a coral species to compare\n",
    "#need to select the coral species\n",
    "coral_species = 'a_hyactintus'\n",
    "coral_files = {}\n",
    "#keys =\n",
    "for file in os.listdir(input_hmmer_dir):\n",
    "    if not file.startswith(coral_species):\n",
    "        continue\n",
    "    if not file.endswith('hmmer_braker3_gff_results.txt'):\n",
    "    #if not file.endswith('profile_hmmer_results.txt'):\n",
    "        continue\n",
    "        #pfam_domain = os.path.basename(file(\"_\")[-1])#change to -1 for nontest sequences\n",
    "    print(file)"
   ]
  },
  {
   "cell_type": "code",
   "execution_count": 31,
   "metadata": {},
   "outputs": [
    {
     "name": "stdout",
     "output_type": "stream",
     "text": [
      "['PF01582', 'PF18837']\n",
      "a_hyactintus_soft_mask_braker_filtered_proteins_PF01582_full_profile_hmmer_braker3_gff_results.txt\n",
      "../output/hmmer_txt_output/braker3_gff/a_hyactintus_soft_mask_braker_filtered_proteins_PF01582_full_profile_hmmer_braker3_gff_results.txt\n",
      "a_hyactintus_soft_mask_braker_filtered_proteins_PF01582_full_profile_hmmer_braker3_gff_results.txt\n",
      "../output/hmmer_txt_output/braker3_gff/a_hyactintus_soft_mask_braker_filtered_proteins_PF01582_full_profile_hmmer_braker3_gff_results.txt\n",
      "{'anno1.g20329', 'anno1.g3943', 'anno1.g11141', 'anno1.g4848', 'anno1.g9987', 'anno1.g17273', 'anno1.g12545', 'anno1.g4739', 'anno1.g2564', 'anno1.g4844', 'anno1.g20454', 'anno1.g17262', 'anno1.g4835', 'anno1.g20738', 'anno1.g20735', 'anno1.g20737', 'anno1.g4845', 'anno1.g2563', 'anno1.g20736', 'anno1.g4843', 'anno1.g17268', 'anno1.g7451', 'anno1.g20330', 'anno1.g4840', 'anno1.g12542', 'anno1.g12541', 'anno1.g7077', 'anno1.g20210'}\n",
      "28\n",
      "a_hyactintus_soft_mask_braker_filtered_proteins_PF18837_full_profile_hmmer_braker3_gff_results.txt\n",
      "../output/hmmer_txt_output/braker3_gff/a_hyactintus_soft_mask_braker_filtered_proteins_PF18837_full_profile_hmmer_braker3_gff_results.txt\n",
      "set()\n",
      "0\n",
      "a_hyactintus_soft_mask_braker_filtered_proteins_PF18837_full_profile_hmmer_braker3_gff_results.txt\n",
      "../output/hmmer_txt_output/braker3_gff/a_hyactintus_soft_mask_braker_filtered_proteins_PF18837_full_profile_hmmer_braker3_gff_results.txt\n",
      "a_hyactintus_soft_mask_braker_filtered_proteins_PF01582_full_profile_hmmer_braker3_gff_results.txt\n",
      "../output/hmmer_txt_output/braker3_gff/a_hyactintus_soft_mask_braker_filtered_proteins_PF01582_full_profile_hmmer_braker3_gff_results.txt\n",
      "set()\n",
      "0\n",
      "a_hyactintus_soft_mask_braker_filtered_proteins_PF18837_full_profile_hmmer_braker3_gff_results.txt\n",
      "../output/hmmer_txt_output/braker3_gff/a_hyactintus_soft_mask_braker_filtered_proteins_PF18837_full_profile_hmmer_braker3_gff_results.txt\n",
      "set()\n",
      "0\n"
     ]
    }
   ],
   "source": [
    "\n",
    "#domains_by_gene_family = {\"Ig\":[\"PF00047\",\"PF18452\",\"PF13927\",\"PF13895\"]}\n",
    "#domains for lrrs: PF00560, PF07723, PF07725, PF12799, PF13306, PF13516, PF13855, PF14580, PF18805, PF18837\n",
    "#domains for tir = PF01582\n",
    "#death domains: PF00531\n",
    "domains_by_gene_family = {\"TLR\":[\"PF01582\",\"PF18837\"]}\n",
    "filename_template=\"a_hyactintus_soft_mask_braker_filtered_proteins_{domain}_full_profile_hmmer_braker3_gff_results.txt\"\n",
    "for gene_family in domains_by_gene_family.keys():\n",
    "    domains=domains_by_gene_family[gene_family]\n",
    "    print(domains)\n",
    "    results ={}\n",
    "    for domain in domains:\n",
    "        #figure out file name for current domain\n",
    "        domain_file=filename_template.format(domain=domain)\n",
    "        print(domain_file)\n",
    "        domain_file_path=os.path.join(input_hmmer_dir,domain_file)\n",
    "        print(domain_file_path)\n",
    "        for domain_2 in domains:\n",
    "            domain_file_2=filename_template.format(domain=domain_2)\n",
    "            print(domain_file_2)\n",
    "            domain_file_path_2=os.path.join(input_hmmer_dir,domain_file_2)\n",
    "            print(domain_file_path_2)\n",
    "            gene_ids=find_shared_domains(domain_file_path,domain_file_path_2)\n",
    "            print(gene_ids)\n",
    "            if not results:\n",
    "                results=gene_ids\n",
    "            results=results.intersection(gene_ids)\n",
    "            print(len(results))\n",
    "            "
   ]
  },
  {
   "cell_type": "code",
   "execution_count": 28,
   "metadata": {},
   "outputs": [
    {
     "name": "stdout",
     "output_type": "stream",
     "text": [
      "a_hyactintus\n",
      "PF01582_ PF14580\n"
     ]
    }
   ],
   "source": [
    "#Need to extract some parts of the files used to write to the common output file.\n",
    "species = os.path.basename(domain_file[:domain_file.index('_soft')])\n",
    "print(species)\n",
    "#pfam_file_1 = os.path.basename(domain_file.split(\"_\")[-2])#change to -1 for nontest sequences\n",
    "#print(pfam_file_1)\n",
    "#pfam_file_2 = os.path.basename(domain_file_2.split(\"_\")[-2])#change to -1 for nontest sequences\n",
    "#print(pfam_file_2)\n",
    "pfam_string = str(domains)[1:-1]\n",
    "pfam_replace_1 = pfam_string.replace(\"'\",\"\")\n",
    "pfam_compare = pfam_replace_1.replace(\",\",\"_\")\n",
    "#pfam_compare = pfam_file_1 + \" \" + pfam_file_2\n",
    "print(pfam_compare)\n"
   ]
  },
  {
   "cell_type": "code",
   "execution_count": 29,
   "metadata": {},
   "outputs": [
    {
     "name": "stdout",
     "output_type": "stream",
     "text": [
      "Writing output file: a_hyactintus, PF01582_ PF14580, anno1.g11809\n"
     ]
    }
   ],
   "source": [
    "#need to write each shared domain to a file\n",
    "#NOTE: union comand releases output as a set. \n",
    "\n",
    "with open(output_filepath, \"a\") as comparison_file:\n",
    "    #writer=csv.DictWriter(comparison_file, fieldnames=shared_domains)\n",
    "    for gene_id in results:\n",
    "        print(f\"Writing output file: {species}, {pfam_compare}, {gene_id}\")\n",
    "        #we have a problem in the output... it is seperating pfam compare into its own columns.\n",
    "        #I want them as one column with all domains.\n",
    "        row=[(species),(pfam_compare),(gene_id)]\n",
    "        row=\"\\t\".join(map(str,row))\n",
    "        comparison_file.write(row + \"\\n\")"
   ]
  },
  {
   "cell_type": "code",
   "execution_count": null,
   "metadata": {},
   "outputs": [],
   "source": []
  }
 ],
 "metadata": {
  "kernelspec": {
   "display_name": "Python 3 (ipykernel)",
   "language": "python",
   "name": "python3"
  },
  "language_info": {
   "codemirror_mode": {
    "name": "ipython",
    "version": 3
   },
   "file_extension": ".py",
   "mimetype": "text/x-python",
   "name": "python",
   "nbconvert_exporter": "python",
   "pygments_lexer": "ipython3",
   "version": "3.8.19"
  }
 },
 "nbformat": 4,
 "nbformat_minor": 4
}
