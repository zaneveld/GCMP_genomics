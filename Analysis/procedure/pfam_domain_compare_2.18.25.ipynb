{
 "cells": [
  {
   "cell_type": "markdown",
   "metadata": {},
   "source": [
    "#This code will compare two files for Pfam domains"
   ]
  },
  {
   "cell_type": "code",
   "execution_count": 1,
   "metadata": {},
   "outputs": [],
   "source": [
    "#!/usr/bin/python\n",
    "from collections import defaultdict\n",
    "import pandas as pd\n",
    "from os.path import exists, join\n",
    "import pdb\n",
    "import os\n",
    "import re\n",
    "import csv"
   ]
  },
  {
   "cell_type": "code",
   "execution_count": null,
   "metadata": {},
   "outputs": [],
   "source": []
  },
  {
   "cell_type": "code",
   "execution_count": null,
   "metadata": {},
   "outputs": [],
   "source": []
  },
  {
   "cell_type": "code",
   "execution_count": 14,
   "metadata": {},
   "outputs": [
    {
     "name": "stdout",
     "output_type": "stream",
     "text": [
      "Confirmed that required file or directory ../input/ exists.\n",
      "Confirmed that required file or directory ../output/hmmer_txt_output/braker3_gff exists.\n",
      "Confirmed that required file or directory ../output/hmmer_txt_output/braker3_gff/TLR_output_files exists.\n"
     ]
    }
   ],
   "source": [
    "input_hmmer_dir = \"../output/hmmer_txt_output/braker3_gff\"\n",
    "input_dir = \"../input/\"\n",
    "\n",
    "output_dir = \"../output/hmmer_txt_output/braker3_gff/TLR_output_files\"\n",
    "#output_file_pfam = \"m_capitata_2_Pfam_domain_similarity_braker3_gff_lrr_tir.tsv\"\n",
    "output_filepath = join(output_dir,output_file_pfam)\n",
    "\n",
    "\n",
    "required = [input_dir,input_hmmer_dir,output_dir]\n",
    "\n",
    "for r in required:\n",
    "    if not exists(r):\n",
    "        raise FileNotFoundError(f\"The specified hmmer file {r} does not seem to be in the specified path.\")\n",
    "    print(f\"Confirmed that required file or directory {r} exists.\")\n"
   ]
  },
  {
   "cell_type": "markdown",
   "metadata": {},
   "source": [
    "## Domains to choose for IG or LLR PFam domains\n",
    "domains_for Ig: PF00047,PF18452,PF13927,PF01582,PF13895 (To build a IL-1R)\n",
    "\n",
    "domains for lrrs: PF00560, PF07723, PF07725, PF12799, PF13306, PF13516, PF13855, PF14580, PF18805, PF18837 (to build a TLR)"
   ]
  },
  {
   "cell_type": "code",
   "execution_count": 15,
   "metadata": {},
   "outputs": [
    {
     "name": "stdout",
     "output_type": "stream",
     "text": [
      "Finding genes that are in the TLR gene family\n",
      "TLR is defined by the following motifs: ['LRR', 'TIR']\n",
      "the current motif is LRR\n",
      "Finding genes with domain PF00560\n",
      "Parsing hmmer results file ../output/hmmer_txt_output/braker3_gff/m_capitata_soft_mask_braker_filtered_proteins_PF00560_full_profile_hmmer_braker3_gff_results.txt\n",
      "Finding genes with domain PF07723\n",
      "Parsing hmmer results file ../output/hmmer_txt_output/braker3_gff/m_capitata_soft_mask_braker_filtered_proteins_PF07723_full_profile_hmmer_braker3_gff_results.txt\n",
      "Finding genes with domain PF12799\n",
      "Parsing hmmer results file ../output/hmmer_txt_output/braker3_gff/m_capitata_soft_mask_braker_filtered_proteins_PF12799_full_profile_hmmer_braker3_gff_results.txt\n",
      "Finding genes with domain PF13306\n",
      "Parsing hmmer results file ../output/hmmer_txt_output/braker3_gff/m_capitata_soft_mask_braker_filtered_proteins_PF13306_full_profile_hmmer_braker3_gff_results.txt\n",
      "Finding genes with domain PF13516\n",
      "Parsing hmmer results file ../output/hmmer_txt_output/braker3_gff/m_capitata_soft_mask_braker_filtered_proteins_PF13516_full_profile_hmmer_braker3_gff_results.txt\n",
      "Finding genes with domain PF13855\n",
      "Parsing hmmer results file ../output/hmmer_txt_output/braker3_gff/m_capitata_soft_mask_braker_filtered_proteins_PF13855_full_profile_hmmer_braker3_gff_results.txt\n",
      "Finding genes with domain PF14580\n",
      "Parsing hmmer results file ../output/hmmer_txt_output/braker3_gff/m_capitata_soft_mask_braker_filtered_proteins_PF14580_full_profile_hmmer_braker3_gff_results.txt\n",
      "the following genes have this motif {'anno1.g30589', 'anno1.g8310', 'anno1.g32897', 'anno1.g20771', 'anno1.g13519', 'anno1.g13518', 'anno1.g7267', 'anno1.g42359', 'anno1.g8360', 'anno1.g9286', 'anno1.g24567', 'anno1.g1693', 'anno1.g1764', 'anno1.g30317', 'anno1.g22441', 'anno1.g12038', 'anno1.g33269', 'anno1.g848', 'anno1.g192', 'anno1.g7280', 'anno1.g31931', 'anno1.g29484', 'anno1.g1631', 'anno1.g33991', 'anno1.g13203', 'anno1.g38062', 'anno1.g41595', 'anno1.g25482', 'anno1.g29538', 'anno1.g17511', 'anno1.g5626', 'anno1.g2726', 'anno1.g18546', 'anno1.g44482', 'anno1.g36262', 'anno1.g12498', 'anno1.g25527', 'anno1.g11140', 'anno1.g28506', 'anno1.g42731', 'anno1.g42021', 'anno1.g32525', 'anno1.g32075', 'anno1.g8830', 'anno1.g16717', 'anno1.g18631', 'anno1.g3255', 'anno1.g2421', 'anno1.g27798', 'anno1.g30937', 'anno1.g32842', 'anno1.g16146', 'anno1.g3687', 'anno1.g7131', 'anno1.g30073', 'anno1.g26855', 'anno1.g5216', 'anno1.g33612', 'anno1.g26150', 'anno1.g6659', 'anno1.g28810', 'anno1.g29763', 'anno1.g18704', 'anno1.g19722', 'anno1.g2083', 'anno1.g21422', 'anno1.g15946', 'anno1.g8398', 'anno1.g11091', 'anno1.g25491', 'anno1.g15641', 'anno1.g10576', 'anno1.g7766', 'anno1.g35951', 'anno1.g6031', 'anno1.g29595', 'anno1.g31901', 'anno1.g42687', 'anno1.g27309', 'anno1.g37662', 'anno1.g37093', 'anno1.g8218', 'anno1.g42790', 'anno1.g517', 'anno1.g6008', 'anno1.g2175', 'anno1.g6232', 'anno1.g3760', 'anno1.g15606', 'anno1.g151', 'anno1.g19149', 'anno1.g35970', 'anno1.g17930', 'anno1.g9614', 'anno1.g6660', 'anno1.g17298', 'anno1.g18148', 'anno1.g20286', 'anno1.g22791', 'anno1.g13231', 'anno1.g14385', 'anno1.g2444', 'anno1.g7971', 'anno1.g23015', 'anno1.g32376', 'anno1.g22440', 'anno1.g25369', 'anno1.g11843', 'anno1.g22768', 'anno1.g2003', 'anno1.g4610', 'anno1.g14564', 'anno1.g3938', 'anno1.g9766', 'anno1.g173', 'anno1.g3671', 'anno1.g15442', 'anno1.g6666', 'anno1.g38904', 'anno1.g1643', 'anno1.g13826', 'anno1.g7109', 'anno1.g15140', 'anno1.g12864', 'anno1.g29359', 'anno1.g13827', 'anno1.g7242', 'anno1.g4055', 'anno1.g37311', 'anno1.g18125', 'anno1.g21463', 'anno1.g5212', 'anno1.g32304', 'anno1.g1596', 'anno1.g31886', 'anno1.g35046', 'anno1.g14331', 'anno1.g17319', 'anno1.g31676', 'anno1.g11931', 'anno1.g43101', 'anno1.g19724', 'anno1.g43', 'anno1.g1585', 'anno1.g6130', 'anno1.g20951', 'anno1.g3175', 'anno1.g16755', 'anno1.g27469', 'anno1.g36966', 'anno1.g32231', 'anno1.g19289', 'anno1.g12615', 'anno1.g32658', 'anno1.g23721', 'anno1.g4478', 'anno1.g3304', 'anno1.g7565', 'anno1.g644', 'anno1.g15697', 'anno1.g1759', 'anno1.g4176', 'anno1.g6155', 'anno1.g30153', 'anno1.g1765', 'anno1.g13981', 'anno1.g44239', 'anno1.g17321', 'anno1.g36493', 'anno1.g42106', 'anno1.g16788', 'anno1.g8176', 'anno1.g12002', 'anno1.g6233', 'anno1.g3417', 'anno1.g3464'}\n",
      "the current motif is TIR\n",
      "Finding genes with domain PF01582\n",
      "Parsing hmmer results file ../output/hmmer_txt_output/braker3_gff/m_capitata_soft_mask_braker_filtered_proteins_PF01582_full_profile_hmmer_braker3_gff_results.txt\n",
      "the following genes have this motif {'anno1.g1385', 'anno1.g38473', 'anno1.g1881', 'anno1.g28125', 'anno1.g27395', 'anno1.g9501', 'anno1.g12670', 'anno1.g20576', 'anno1.g14075', 'anno1.g1389', 'anno1.g35785', 'anno1.g38216', 'anno1.g17972', 'anno1.g1378', 'anno1.g2792', 'anno1.g21762', 'anno1.g40041', 'anno1.g36452', 'anno1.g22405', 'anno1.g24773', 'anno1.g1372', 'anno1.g32821', 'anno1.g1380', 'anno1.g38367', 'anno1.g43360', 'anno1.g9499', 'anno1.g38272', 'anno1.g31172', 'anno1.g20648', 'anno1.g1377', 'anno1.g6071', 'anno1.g1373', 'anno1.g4522', 'anno1.g1390', 'anno1.g2780'}\n",
      "Gene with motifs ['LRR', 'TIR']: set()\n",
      "example target names: ['anno1.g3938.t1', 'anno1.g23721.t1', 'anno1.g36262.t1', 'anno1.g18704.t1', 'anno1.g4478.t1', 'anno1.g6659.t1', 'anno1.g151.t1', 'anno1.g17511.t1', 'anno1.g6130.t1', 'anno1.g32376.t1', 'anno1.g6666.t1', 'anno1.g21463.t1', 'anno1.g5216.t1', 'anno1.g4610.t1', 'anno1.g12615.t1', 'anno1.g10576.t1', 'anno1.g42106.t1', 'anno1.g6232.t1', 'anno1.g8398.t1', 'anno1.g33991.t1', 'anno1.g19289.t1', 'anno1.g2003.t1', 'anno1.g13827.t1', 'anno1.g31931.t1', 'anno1.g15442.t1', 'anno1.g8830.t1', 'anno1.g2726.t1', 'anno1.g23015.t1', 'anno1.g1631.t1', 'anno1.g42021.t1', 'anno1.g2421.t1', 'anno1.g16146.t1', 'anno1.g30937.t2', 'anno1.g9766.t1', 'anno1.g42359.t1', 'anno1.g15140.t1', 'anno1.g31676.t1', 'anno1.g8218.t1', 'anno1.g32897.t2', 'anno1.g27798.t1', 'anno1.g2175.t1', 'anno1.g3304.t1', 'anno1.g18125.t2', 'anno1.g30153.t1', 'anno1.g12002.t1', 'anno1.g644.t1', 'anno1.g33612.t1', 'anno1.g18631.t1', 'anno1.g13518.t1', 'anno1.g13519.t1', 'anno1.g3464.t2', 'anno1.g15606.t1', 'anno1.g30317.t1', 'anno1.g3671.t1', 'anno1.g2083.t1', 'anno1.g517.t1', 'anno1.g6031.t1', 'anno1.g11931.t1', 'anno1.g7280.t1', 'anno1.g22768.t1', 'anno1.g17298.t1', 'anno1.g19724.t1', 'anno1.g44239.t1', 'anno1.g6155.t1', 'anno1.g11843.t1', 'anno1.g30073.t1', 'anno1.g37311.t1', 'anno1.g13203.t1', 'anno1.g17319.t1', 'anno1.g2444.t1', 'anno1.g848.t2', 'anno1.g1596.t1', 'anno1.g32304.t1', 'anno1.g15946.t1', 'anno1.g22791.t1', 'anno1.g43101.t1', 'anno1.g14385.t1', 'anno1.g32658.t1', 'anno1.g5212.t1', 'anno1.g6233.t1', 'anno1.g36493.t1', 'anno1.g1764.t1', 'anno1.g7267.t1', 'anno1.g28810.t1', 'anno1.g3175.t1', 'anno1.g32231.t2', 'anno1.g17321.t1', 'anno1.g38062.t1', 'anno1.g36966.t1', 'anno1.g25482.t1', 'anno1.g26855.t1', 'anno1.g7971.t1', 'anno1.g11091.t1', 'anno1.g35951.t2', 'anno1.g31886.t1', 'anno1.g13826.t1', 'anno1.g25369.t1', 'anno1.g18148.t1', 'anno1.g3760.t1', 'anno1.g3687.t1', 'anno1.g16755.t1', 'anno1.g43.t1', 'anno1.g8360.t1', 'anno1.g42731.t1', 'anno1.g1585.t1', 'anno1.g25527.t1', 'anno1.g1759.t1', 'anno1.g4176.t1', 'anno1.g27309.t1', 'anno1.g37093.t1', 'anno1.g6008.t1', 'anno1.g26150.t1', 'anno1.g30589.t1', 'anno1.g4055.t1', 'anno1.g9286.t1', 'anno1.g29359.t1', 'anno1.g17511.t1', 'anno1.g36262.t1', 'anno1.g5216.t1', 'anno1.g6659.t1', 'anno1.g6666.t1', 'anno1.g31931.t1', 'anno1.g2726.t1', 'anno1.g15442.t1', 'anno1.g31676.t1', 'anno1.g8830.t1', 'anno1.g6232.t1', 'anno1.g42021.t1', 'anno1.g42106.t1', 'anno1.g4478.t1', 'anno1.g644.t1', 'anno1.g42359.t1', 'anno1.g13519.t1', 'anno1.g14331.t1', 'anno1.g23015.t1', 'anno1.g22791.t1', 'anno1.g8218.t1', 'anno1.g33612.t1', 'anno1.g15140.t1', 'anno1.g27309.t1', 'anno1.g2175.t1', 'anno1.g2083.t1', 'anno1.g3938.t1', 'anno1.g6031.t1', 'anno1.g517.t1', 'anno1.g5212.t1', 'anno1.g6155.t1', 'anno1.g13518.t1', 'anno1.g11931.t1', 'anno1.g44239.t1', 'anno1.g15606.t1', 'anno1.g7280.t1', 'anno1.g848.t2', 'anno1.g3671.t1', 'anno1.g14385.t1', 'anno1.g2444.t1', 'anno1.g12002.t1', 'anno1.g10576.t1', 'anno1.g30317.t1', 'anno1.g3464.t2', 'anno1.g16146.t1', 'anno1.g22768.t1', 'anno1.g32304.t1', 'anno1.g23721.t1', 'anno1.g30073.t1', 'anno1.g17319.t1', 'anno1.g2421.t1', 'anno1.g28810.t1', 'anno1.g21463.t1', 'anno1.g17298.t1', 'anno1.g24567.t1', 'anno1.g18631.t1', 'anno1.g6130.t1', 'anno1.g32658.t1', 'anno1.g42731.t1', 'anno1.g19724.t1', 'anno1.g13827.t1', 'anno1.g12615.t1', 'anno1.g1631.t1', 'anno1.g19289.t1', 'anno1.g33991.t1', 'anno1.g1596.t1', 'anno1.g36966.t1', 'anno1.g38062.t1', 'anno1.g3687.t1', 'anno1.g3760.t1', 'anno1.g3175.t1', 'anno1.g8398.t1', 'anno1.g2003.t1', 'anno1.g30937.t2', 'anno1.g6008.t1', 'anno1.g15946.t1', 'anno1.g18148.t1', 'anno1.g32897.t2', 'anno1.g26855.t1', 'anno1.g7971.t1', 'anno1.g1585.t1', 'anno1.g7267.t1', 'anno1.g4610.t1', 'anno1.g37311.t1', 'anno1.g32376.t1', 'anno1.g6660.t1', 'anno1.g3417.t1', 'anno1.g11091.t1', 'anno1.g3255.t1', 'anno1.g35970.t1', 'anno1.g9766.t1', 'anno1.g43101.t1', 'anno1.g3304.t1', 'anno1.g8360.t1', 'anno1.g15697.t1', 'anno1.g35046.t1', 'anno1.g18546.t1', 'anno1.g13231.t1', 'anno1.g32075.t1', 'anno1.g13981.t2', 'anno1.g1759.t1', 'anno1.g35951.t2', 'anno1.g13203.t1', 'anno1.g18704.t1', 'anno1.g19722.t1', 'anno1.g22440.t1', 'anno1.g11843.t1', 'anno1.g29763.t1', 'anno1.g1764.t1', 'anno1.g42790.t1', 'anno1.g1643.t1', 'anno1.g21422.t1', 'anno1.g29359.t1', 'anno1.g22441.t1', 'anno1.g31886.t1', 'anno1.g41595.t1', 'anno1.g44482.t1', 'anno1.g37093.t1', 'anno1.g29538.t1', 'anno1.g5626.t1', 'anno1.g14564.t1', 'anno1.g30589.t1', 'anno1.g42687.t1', 'anno1.g20286.t1', 'anno1.g8176.t1', 'anno1.g19149.t1', 'anno1.g9286.t1', 'anno1.g15641.t1', 'anno1.g18125.t2', 'anno1.g25527.t1', 'anno1.g28506.t1', 'anno1.g173.t1', 'anno1.g8310.t1', 'anno1.g31901.t1', 'anno1.g13826.t1', 'anno1.g4176.t1', 'anno1.g38904.t1', 'anno1.g1759.t1', 'anno1.g3255.t1', 'anno1.g15946.t1', 'anno1.g18148.t1', 'anno1.g1596.t1', 'anno1.g3760.t1', 'anno1.g42731.t1', 'anno1.g1643.t1', 'anno1.g11091.t1', 'anno1.g43101.t1', 'anno1.g1764.t1', 'anno1.g19724.t1', 'anno1.g26855.t1', 'anno1.g17321.t1', 'anno1.g37093.t1', 'anno1.g35951.t2', 'anno1.g16755.t1', 'anno1.g7267.t1', 'anno1.g1765.t1', 'anno1.g13231.t1', 'anno1.g192.t1', 'anno1.g37662.t1', 'anno1.g19722.t1', 'anno1.g7766.t1', 'anno1.g35970.t1', 'anno1.g6660.t1', 'anno1.g16717.t1', 'anno1.g18631.t1', 'anno1.g20951.t1', 'anno1.g26150.t1', 'anno1.g15641.t1', 'anno1.g32075.t1', 'anno1.g12864.t1', 'anno1.g25491.t1', 'anno1.g13981.t2', 'anno1.g173.t1', 'anno1.g8360.t1', 'anno1.g12498.t1', 'anno1.g36966.t1', 'anno1.g27469.t1', 'anno1.g29484.t1', 'anno1.g5626.t1', 'anno1.g9286.t1', 'anno1.g32842.t1', 'anno1.g29595.t1', 'anno1.g7565.t1', 'anno1.g8310.t1', 'anno1.g31901.t1', 'anno1.g32525.t1', 'anno1.g9614.t1', 'anno1.g7109.t1', 'anno1.g17930.t1', 'anno1.g4478.t1', 'anno1.g25369.t1', 'anno1.g20771.t1', 'anno1.g19149.t1', 'anno1.g33269.t1', 'anno1.g15697.t1', 'anno1.g21422.t1', 'anno1.g2175.t1', 'anno1.g3417.t1', 'anno1.g44239.t1', 'anno1.g38904.t1', 'anno1.g1693.t1', 'anno1.g16146.t1', 'anno1.g12002.t1', 'anno1.g3938.t1', 'anno1.g13827.t1', 'anno1.g16788.t1', 'anno1.g13518.t1', 'anno1.g29359.t1', 'anno1.g42021.t1', 'anno1.g30317.t1', 'anno1.g12038.t1', 'anno1.g2003.t1', 'anno1.g11140.t1', 'anno1.g8218.t1', 'anno1.g42687.t1', 'anno1.g7131.t1', 'anno1.g29538.t1', 'anno1.g848.t2', 'anno1.g8176.t1', 'anno1.g42106.t1', 'anno1.g6232.t1', 'anno1.g15442.t1', 'anno1.g31676.t1', 'anno1.g33612.t1', 'anno1.g11931.t1', 'anno1.g2083.t1', 'anno1.g14385.t1', 'anno1.g17319.t1', 'anno1.g42106.t1', 'anno1.g30073.t1', 'anno1.g6666.t1', 'anno1.g17511.t1', 'anno1.g2175.t1', 'anno1.g28810.t1', 'anno1.g36262.t1', 'anno1.g17511.t1', 'anno1.g6659.t1', 'anno1.g3938.t1', 'anno1.g31931.t1', 'anno1.g6666.t1', 'anno1.g151.t1', 'anno1.g8830.t1', 'anno1.g4478.t1', 'anno1.g5216.t1', 'anno1.g42106.t1', 'anno1.g15442.t1', 'anno1.g6232.t1', 'anno1.g42021.t1', 'anno1.g23015.t1', 'anno1.g42359.t1', 'anno1.g2175.t1', 'anno1.g8218.t1', 'anno1.g15140.t1', 'anno1.g21463.t1', 'anno1.g13519.t1', 'anno1.g6130.t1', 'anno1.g2726.t1', 'anno1.g23721.t1', 'anno1.g10576.t1', 'anno1.g31676.t1', 'anno1.g12002.t1', 'anno1.g644.t1', 'anno1.g6031.t1', 'anno1.g13518.t1', 'anno1.g13827.t1', 'anno1.g33612.t1', 'anno1.g5212.t1', 'anno1.g30317.t1', 'anno1.g2083.t1', 'anno1.g22791.t1', 'anno1.g517.t1', 'anno1.g4610.t1', 'anno1.g30937.t2', 'anno1.g2421.t1', 'anno1.g192.t1', 'anno1.g15606.t1', 'anno1.g16146.t1', 'anno1.g42731.t1', 'anno1.g3671.t1', 'anno1.g848.t2', 'anno1.g7971.t1', 'anno1.g1631.t1', 'anno1.g44239.t1', 'anno1.g3464.t2', 'anno1.g6155.t1', 'anno1.g14385.t1', 'anno1.g32376.t1', 'anno1.g30073.t1', 'anno1.g2444.t1', 'anno1.g27309.t1', 'anno1.g12615.t1', 'anno1.g28810.t1', 'anno1.g19724.t1', 'anno1.g37311.t1', 'anno1.g11091.t1', 'anno1.g32304.t1', 'anno1.g33991.t1', 'anno1.g32897.t2', 'anno1.g11931.t1', 'anno1.g17319.t1', 'anno1.g11843.t1', 'anno1.g13203.t1', 'anno1.g22768.t1', 'anno1.g8398.t1', 'anno1.g32658.t1', 'anno1.g7280.t1', 'anno1.g43101.t1', 'anno1.g3304.t1', 'anno1.g19289.t1', 'anno1.g38062.t1', 'anno1.g18631.t1', 'anno1.g2003.t1', 'anno1.g32075.t1', 'anno1.g1596.t1', 'anno1.g3175.t1', 'anno1.g16755.t1', 'anno1.g18704.t1', 'anno1.g4176.t1', 'anno1.g9766.t1', 'anno1.g18125.t2', 'anno1.g6660.t1', 'anno1.g7242.t1', 'anno1.g35970.t1', 'anno1.g13826.t1', 'anno1.g1759.t1', 'anno1.g15946.t1', 'anno1.g24567.t1', 'anno1.g5626.t1', 'anno1.g7267.t1', 'anno1.g1585.t1', 'anno1.g8360.t1', 'anno1.g21422.t1', 'anno1.g19722.t1', 'anno1.g36966.t1', 'anno1.g8310.t1', 'anno1.g31886.t1', 'anno1.g27798.t1', 'anno1.g20771.t1', 'anno1.g35951.t2', 'anno1.g6008.t1', 'anno1.g17298.t1', 'anno1.g15697.t1', 'anno1.g18546.t1', 'anno1.g3760.t1', 'anno1.g20286.t1', 'anno1.g3687.t1', 'anno1.g28506.t1', 'anno1.g42687.t1', 'anno1.g29359.t1', 'anno1.g4055.t1', 'anno1.g7131.t1', 'anno1.g15641.t1', 'anno1.g30589.t1', 'anno1.g31901.t1', 'anno1.g13231.t1', 'anno1.g1764.t1', 'anno1.g3417.t1', 'anno1.g33269.t1', 'anno1.g14564.t1', 'anno1.g13981.t2', 'anno1.g19149.t1', 'anno1.g7766.t1', 'anno1.g37093.t1', 'anno1.g22791.t1', 'anno1.g6659.t1', 'anno1.g31931.t1', 'anno1.g3760.t1', 'anno1.g42021.t1', 'anno1.g17511.t1', 'anno1.g2175.t1', 'anno1.g35951.t2', 'anno1.g42106.t1', 'anno1.g15606.t1', 'anno1.g36262.t1', 'anno1.g24567.t1', 'anno1.g42359.t1', 'anno1.g4478.t1', 'anno1.g44239.t1', 'anno1.g18148.t1', 'anno1.g8830.t1', 'anno1.g19724.t1', 'anno1.g6031.t1', 'anno1.g1596.t1', 'anno1.g33612.t1', 'anno1.g13231.t1', 'anno1.g1759.t1', 'anno1.g848.t2', 'anno1.g26855.t1', 'anno1.g15946.t1', 'anno1.g517.t1', 'anno1.g5216.t1', 'anno1.g15140.t1', 'anno1.g6232.t1', 'anno1.g13518.t1', 'anno1.g7267.t1', 'anno1.g30073.t1', 'anno1.g3255.t1', 'anno1.g2083.t1', 'anno1.g6666.t1', 'anno1.g11140.t1', 'anno1.g6155.t1', 'anno1.g5212.t1', 'anno1.g2780.t1', 'anno1.g2792.t1', 'anno1.g14075.t1', 'anno1.g24773.t1', 'anno1.g4522.t1', 'anno1.g38473.t1', 'anno1.g43360.t1', 'anno1.g38367.t1', 'anno1.g1881.t1', 'anno1.g20648.t1', 'anno1.g21762.t1', 'anno1.g12670.t1', 'anno1.g28125.t1', 'anno1.g32821.t1', 'anno1.g1390.t1', 'anno1.g1373.t1', 'anno1.g1377.t1', 'anno1.g31172.t1', 'anno1.g1372.t1', 'anno1.g27395.t1', 'anno1.g40041.t1', 'anno1.g17972.t1', 'anno1.g38216.t1', 'anno1.g38272.t1', 'anno1.g1378.t1', 'anno1.g36452.t1', 'anno1.g6071.t1', 'anno1.g22405.t1', 'anno1.g1380.t1', 'anno1.g1389.t1', 'anno1.g20576.t1', 'anno1.g1385.t1', 'anno1.g9499.t1', 'anno1.g9501.t1', 'anno1.g35785.t1']\n",
      "gene ids by gene family {'TLR': []}\n",
      "Empty DataFrame\n",
      "Columns: [target_name, accession, query_name, accession, E-value_full_seq, score_full_seq, bias_full_seq, E-value, score, bias, exp, reg, clu, ov, env, dom, rep, inc, description_of_target, motif, species, gene_family, gene_id]\n",
      "Index: []\n",
      "\n",
      "[0 rows x 23 columns]\n"
     ]
    },
    {
     "name": "stderr",
     "output_type": "stream",
     "text": [
      "/tmp/ipykernel_5555/2016752920.py:37: SettingWithCopyWarning: \n",
      "A value is trying to be set on a copy of a slice from a DataFrame.\n",
      "Try using .loc[row_indexer,col_indexer] = value instead\n",
      "\n",
      "See the caveats in the documentation: https://pandas.pydata.org/pandas-docs/stable/user_guide/indexing.html#returning-a-view-versus-a-copy\n",
      "  df_filtered[\"motif\"] = motif\n",
      "/tmp/ipykernel_5555/2016752920.py:38: SettingWithCopyWarning: \n",
      "A value is trying to be set on a copy of a slice from a DataFrame.\n",
      "Try using .loc[row_indexer,col_indexer] = value instead\n",
      "\n",
      "See the caveats in the documentation: https://pandas.pydata.org/pandas-docs/stable/user_guide/indexing.html#returning-a-view-versus-a-copy\n",
      "  df_filtered[\"species\"] = coral_species\n",
      "/tmp/ipykernel_5555/2016752920.py:37: SettingWithCopyWarning: \n",
      "A value is trying to be set on a copy of a slice from a DataFrame.\n",
      "Try using .loc[row_indexer,col_indexer] = value instead\n",
      "\n",
      "See the caveats in the documentation: https://pandas.pydata.org/pandas-docs/stable/user_guide/indexing.html#returning-a-view-versus-a-copy\n",
      "  df_filtered[\"motif\"] = motif\n",
      "/tmp/ipykernel_5555/2016752920.py:38: SettingWithCopyWarning: \n",
      "A value is trying to be set on a copy of a slice from a DataFrame.\n",
      "Try using .loc[row_indexer,col_indexer] = value instead\n",
      "\n",
      "See the caveats in the documentation: https://pandas.pydata.org/pandas-docs/stable/user_guide/indexing.html#returning-a-view-versus-a-copy\n",
      "  df_filtered[\"species\"] = coral_species\n",
      "/tmp/ipykernel_5555/2016752920.py:37: SettingWithCopyWarning: \n",
      "A value is trying to be set on a copy of a slice from a DataFrame.\n",
      "Try using .loc[row_indexer,col_indexer] = value instead\n",
      "\n",
      "See the caveats in the documentation: https://pandas.pydata.org/pandas-docs/stable/user_guide/indexing.html#returning-a-view-versus-a-copy\n",
      "  df_filtered[\"motif\"] = motif\n",
      "/tmp/ipykernel_5555/2016752920.py:38: SettingWithCopyWarning: \n",
      "A value is trying to be set on a copy of a slice from a DataFrame.\n",
      "Try using .loc[row_indexer,col_indexer] = value instead\n",
      "\n",
      "See the caveats in the documentation: https://pandas.pydata.org/pandas-docs/stable/user_guide/indexing.html#returning-a-view-versus-a-copy\n",
      "  df_filtered[\"species\"] = coral_species\n",
      "/tmp/ipykernel_5555/2016752920.py:37: SettingWithCopyWarning: \n",
      "A value is trying to be set on a copy of a slice from a DataFrame.\n",
      "Try using .loc[row_indexer,col_indexer] = value instead\n",
      "\n",
      "See the caveats in the documentation: https://pandas.pydata.org/pandas-docs/stable/user_guide/indexing.html#returning-a-view-versus-a-copy\n",
      "  df_filtered[\"motif\"] = motif\n",
      "/tmp/ipykernel_5555/2016752920.py:38: SettingWithCopyWarning: \n",
      "A value is trying to be set on a copy of a slice from a DataFrame.\n",
      "Try using .loc[row_indexer,col_indexer] = value instead\n",
      "\n",
      "See the caveats in the documentation: https://pandas.pydata.org/pandas-docs/stable/user_guide/indexing.html#returning-a-view-versus-a-copy\n",
      "  df_filtered[\"species\"] = coral_species\n",
      "/tmp/ipykernel_5555/2016752920.py:37: SettingWithCopyWarning: \n",
      "A value is trying to be set on a copy of a slice from a DataFrame.\n",
      "Try using .loc[row_indexer,col_indexer] = value instead\n",
      "\n",
      "See the caveats in the documentation: https://pandas.pydata.org/pandas-docs/stable/user_guide/indexing.html#returning-a-view-versus-a-copy\n",
      "  df_filtered[\"motif\"] = motif\n",
      "/tmp/ipykernel_5555/2016752920.py:38: SettingWithCopyWarning: \n",
      "A value is trying to be set on a copy of a slice from a DataFrame.\n",
      "Try using .loc[row_indexer,col_indexer] = value instead\n",
      "\n",
      "See the caveats in the documentation: https://pandas.pydata.org/pandas-docs/stable/user_guide/indexing.html#returning-a-view-versus-a-copy\n",
      "  df_filtered[\"species\"] = coral_species\n",
      "/tmp/ipykernel_5555/2016752920.py:37: SettingWithCopyWarning: \n",
      "A value is trying to be set on a copy of a slice from a DataFrame.\n",
      "Try using .loc[row_indexer,col_indexer] = value instead\n",
      "\n",
      "See the caveats in the documentation: https://pandas.pydata.org/pandas-docs/stable/user_guide/indexing.html#returning-a-view-versus-a-copy\n",
      "  df_filtered[\"motif\"] = motif\n",
      "/tmp/ipykernel_5555/2016752920.py:38: SettingWithCopyWarning: \n",
      "A value is trying to be set on a copy of a slice from a DataFrame.\n",
      "Try using .loc[row_indexer,col_indexer] = value instead\n",
      "\n",
      "See the caveats in the documentation: https://pandas.pydata.org/pandas-docs/stable/user_guide/indexing.html#returning-a-view-versus-a-copy\n",
      "  df_filtered[\"species\"] = coral_species\n",
      "/tmp/ipykernel_5555/2016752920.py:37: SettingWithCopyWarning: \n",
      "A value is trying to be set on a copy of a slice from a DataFrame.\n",
      "Try using .loc[row_indexer,col_indexer] = value instead\n",
      "\n",
      "See the caveats in the documentation: https://pandas.pydata.org/pandas-docs/stable/user_guide/indexing.html#returning-a-view-versus-a-copy\n",
      "  df_filtered[\"motif\"] = motif\n",
      "/tmp/ipykernel_5555/2016752920.py:38: SettingWithCopyWarning: \n",
      "A value is trying to be set on a copy of a slice from a DataFrame.\n",
      "Try using .loc[row_indexer,col_indexer] = value instead\n",
      "\n",
      "See the caveats in the documentation: https://pandas.pydata.org/pandas-docs/stable/user_guide/indexing.html#returning-a-view-versus-a-copy\n",
      "  df_filtered[\"species\"] = coral_species\n"
     ]
    }
   ],
   "source": [
    "\n",
    "def get_hmmer_results_by_species (coral_species, input_hmmer_dir):\n",
    "    \"\"\" Return a dict mapping domain ids to file paths for hmmer results.\n",
    "    coral_species -- a string of species (code assumes file starts with species name)\n",
    "    input_hmmer_dir -- a string representing the path to a directory holding the hmmer results file for each domain \n",
    "    \"\"\"\n",
    "    hmmer_results_by_domain = {}\n",
    "    for file in os.listdir(input_hmmer_dir):\n",
    "        if not file.startswith(coral_species):\n",
    "            continue\n",
    "        if not file.endswith('hmmer_braker3_gff_results.txt'):\n",
    "        #if not file.endswith('profile_hmmer_results.txt'):\n",
    "            continue\n",
    "            #pfam_domain = os.path.basename(file(\"_\")[-1])#change to -1 for nontest sequences\n",
    "        pf_domain = file.split(\"_proteins_\")[1]\n",
    "        pf_domain = pf_domain.split(\"_\")[0]\n",
    "        hmmer_results_by_domain[pf_domain] = join(input_hmmer_dir,file)\n",
    "    return hmmer_results_by_domain\n",
    "\n",
    "\n",
    "def gene_ids_with_motif(coral_species, motif,domains_by_motif, hmmer_results_by_domain):\n",
    "    #open the folder\n",
    "    gene_ids_with_motif = set()\n",
    "    result_df = None\n",
    "    #pfam_domains = set()\n",
    "    for domain in domains_by_motif[motif]:\n",
    "        print(f\"Finding genes with domain {domain}\")\n",
    "        domains = domain\n",
    "        #open the file for that domain\n",
    "        hmmer_results_file = hmmer_results_by_domain[domain]\n",
    "        print(f\"Parsing hmmer results file {hmmer_results_file}\")\n",
    "        df = pd.read_csv(hmmer_results_file,delim_whitespace=True, comment=\"#\")\n",
    "        #print(repr(df.columns))\n",
    "        df.columns=[\"target_name\", \"accession\", \"query_name\", \"accession\", \"E-value_full_seq\", \"score_full_seq\", \"bias_full_seq\", \n",
    "        \"E-value\", \"score\", \"bias\", \"exp\", \"reg\", \"clu\", \"ov\", \"env\", \"dom\", \"rep\", \"inc\", \"description_of_target\"]\n",
    "        #df_filtered = df[df[\"E-value_full_seq\"]<0.0000000001]\n",
    "        df_filtered = df[df[\"E-value_full_seq\"]<0.01]\n",
    "        df_filtered[\"motif\"] = motif\n",
    "        df_filtered[\"species\"] = coral_species\n",
    "        if result_df is None:\n",
    "            result_df = df_filtered\n",
    "        else:\n",
    "            result_df = pd.concat([df_filtered, result_df], ignore_index = True, axis = 0)\n",
    "        gene_ids = result_df[\"target_name\"]\n",
    "        pfam_domains = result_df[\"query_name\"]\n",
    "        pfam_domains = list(set(list(pfam_domains)))\n",
    "        pfam_domains = sorted(pfam_domains)\n",
    "        #print(gene_ids)\n",
    "        gene_ids_stripped = gene_ids.str.split('.t').str[0] \n",
    "        #gene_ids_stripped = gene_ids_stripped.str.split('.').str[-1]\n",
    "        #print(gene_ids_strip)\n",
    "        gene_id_union = gene_ids_with_motif.union(set(gene_ids_stripped))\n",
    "        gene_ids_with_motif = gene_id_union\n",
    "        #pfam_domains = df_filter[\"query_name\"]\n",
    "        #print(domains)\n",
    "    return gene_ids_with_motif, result_df\n",
    "    #result_pfam = gene_ids_with_motif()\n",
    "    #print(result_pfam)\n",
    "\n",
    "def identify_gene_family_by_motif(coral_species, required_motifs, domains_by_motif, hmmer_results_by_domain):\n",
    "        df = None\n",
    "        for i,motif in enumerate(required_motifs):\n",
    "            print(\"the current motif is\", motif)\n",
    "            current_gene_ids, current_df = gene_ids_with_motif(coral_species, motif,domains_by_motif, hmmer_results_by_domain)\n",
    "            print(\"the following genes have this motif\", current_gene_ids)\n",
    "            if df is None:\n",
    "                df = current_df\n",
    "            else:\n",
    "                df = pd.concat([df, current_df], ignore_index = True, axis = 0)\n",
    "\n",
    "            #For the first motif, whichever genes \n",
    "            #have it are our matching genes to \n",
    "            #start out with\n",
    "            if i == 0:\n",
    "                matching_genes = set(current_gene_ids)\n",
    "                continue\n",
    "\n",
    "            matching_genes = matching_genes.intersection(current_gene_ids)\n",
    "        print(f\"Gene with motifs {required_motifs}: {matching_genes}\")\n",
    "        #now filter the df with all genes to just those with all the required motifes\n",
    "        print(\"example target names:\", list(df[\"target_name\"]))\n",
    "        df = df[df[\"target_name\"].str.split('.t').str[0].isin(matching_genes)]\n",
    "\n",
    "        return list(matching_genes),df\n",
    "\n",
    "\n",
    "motifs_by_gene_family = {\"TLR\":[\"LRR\",\"TIR\"]}\n",
    "domains_by_motif = {\"LRR\":[\"PF00560\", \"PF07723\", \"PF12799\", \"PF13306\", \"PF13516\", \"PF13855\", \"PF14580\"],\"TIR\":[\"PF01582\"]}\n",
    "#PF07725\n",
    "\n",
    "coral_species = 'm_capitata'\n",
    "hmmer_results_by_domain = get_hmmer_results_by_species(coral_species, input_hmmer_dir)\n",
    "gene_ids_by_gene_family = {}\n",
    "df = None\n",
    "for gene_family in motifs_by_gene_family.keys():\n",
    "    print(f\"Finding genes that are in the {gene_family} gene family\")\n",
    "    #gene_ids_with_motif\n",
    "    required_motifs = motifs_by_gene_family[gene_family]\n",
    "    print(f\"{gene_family} is defined by the following motifs: {required_motifs}\")\n",
    "    gene_ids, current_df = identify_gene_family_by_motif(coral_species, required_motifs, domains_by_motif, hmmer_results_by_domain)\n",
    "    current_df[\"gene_family\"] = gene_family\n",
    "    if df is None:\n",
    "        df = current_df\n",
    "    else:\n",
    "        df = pd.concat([df, current_df], ignore_index = True, axis = 0)\n",
    "    gene_ids_by_gene_family[gene_family] = gene_ids\n",
    "print(\"gene ids by gene family\", gene_ids_by_gene_family)\n",
    "gene_id_split = df[\"target_name\"].str.split('.t').str[0]\n",
    "gene_id_split_end = gene_id_split.str.split('.').str[-1]\n",
    "df[\"gene_id\"]=gene_id_split_end\n",
    "print(df)\n",
    "df.to_csv(output_filepath)\n",
    " "
   ]
  },
  {
   "cell_type": "code",
   "execution_count": 7,
   "metadata": {},
   "outputs": [
    {
     "name": "stdout",
     "output_type": "stream",
     "text": [
      "Finding genes that are in the TLR gene family\n",
      "Finding genes that are in the IL-1R gene family\n"
     ]
    }
   ],
   "source": [
    "#I don'think we need this\n",
    "#Need to first define the motifs we are searching for\n",
    "motifs_by_gene_family = {\"TLR\":[\"LRR\",\"TIR\"],\"IL-1R\":[\"Ig\",\"TIR\"]}\n",
    "domains_by_motif = {\"LRR\":[\"PF00560\",\"PF07723\",\"PF07725\"],\"TIR\":[\"PF01582\"]}\n",
    "\n",
    "for gene_family in motifs_by_gene_family.keys():\n",
    "    print(f\"Finding genes that are in the {gene_family} gene family\")"
   ]
  },
  {
   "cell_type": "code",
   "execution_count": 7,
   "metadata": {},
   "outputs": [
    {
     "name": "stdout",
     "output_type": "stream",
     "text": [
      "['PF18452', 'PF18805']\n",
      "a_cytherea_soft_mask_braker_PF18452_full_profile_hmmer_braker3_results.txt\n",
      "../output/hmmer_txt_output/braker3_gff/a_cytherea_soft_mask_braker_PF18452_full_profile_hmmer_braker3_results.txt\n",
      "a_cytherea_soft_mask_braker_PF18452_full_profile_hmmer_braker3_results.txt\n",
      "../output/hmmer_txt_output/braker3_gff/a_cytherea_soft_mask_braker_PF18452_full_profile_hmmer_braker3_results.txt\n"
     ]
    },
    {
     "ename": "NameError",
     "evalue": "name 'find_shared_domains' is not defined",
     "output_type": "error",
     "traceback": [
      "\u001b[0;31m---------------------------------------------------------------------------\u001b[0m",
      "\u001b[0;31mNameError\u001b[0m                                 Traceback (most recent call last)",
      "\u001b[0;32m/tmp/ipykernel_14894/405546620.py\u001b[0m in \u001b[0;36m<cell line: 5>\u001b[0;34m()\u001b[0m\n\u001b[1;32m     18\u001b[0m             \u001b[0mdomain_file_path_2\u001b[0m\u001b[0;34m=\u001b[0m\u001b[0mos\u001b[0m\u001b[0;34m.\u001b[0m\u001b[0mpath\u001b[0m\u001b[0;34m.\u001b[0m\u001b[0mjoin\u001b[0m\u001b[0;34m(\u001b[0m\u001b[0minput_hmmer_dir\u001b[0m\u001b[0;34m,\u001b[0m\u001b[0mdomain_file_2\u001b[0m\u001b[0;34m)\u001b[0m\u001b[0;34m\u001b[0m\u001b[0;34m\u001b[0m\u001b[0m\n\u001b[1;32m     19\u001b[0m             \u001b[0mprint\u001b[0m\u001b[0;34m(\u001b[0m\u001b[0mdomain_file_path_2\u001b[0m\u001b[0;34m)\u001b[0m\u001b[0;34m\u001b[0m\u001b[0;34m\u001b[0m\u001b[0m\n\u001b[0;32m---> 20\u001b[0;31m             \u001b[0mgene_ids\u001b[0m\u001b[0;34m=\u001b[0m\u001b[0mfind_shared_domains\u001b[0m\u001b[0;34m(\u001b[0m\u001b[0mdomain_file_path\u001b[0m\u001b[0;34m,\u001b[0m\u001b[0mdomain_file_path_2\u001b[0m\u001b[0;34m)\u001b[0m\u001b[0;34m\u001b[0m\u001b[0;34m\u001b[0m\u001b[0m\n\u001b[0m\u001b[1;32m     21\u001b[0m             \u001b[0mprint\u001b[0m\u001b[0;34m(\u001b[0m\u001b[0mgene_ids\u001b[0m\u001b[0;34m)\u001b[0m\u001b[0;34m\u001b[0m\u001b[0;34m\u001b[0m\u001b[0m\n\u001b[1;32m     22\u001b[0m             \u001b[0;32mif\u001b[0m \u001b[0;32mnot\u001b[0m \u001b[0mresults\u001b[0m\u001b[0;34m:\u001b[0m\u001b[0;34m\u001b[0m\u001b[0;34m\u001b[0m\u001b[0m\n",
      "\u001b[0;31mNameError\u001b[0m: name 'find_shared_domains' is not defined"
     ]
    }
   ],
   "source": [
    "\n",
    "#domains_by_gene_family = {\"TLR\":[\"PF00047\",\"PF18452\",\"PF13927\",\"PF01582\",\"PF13895\"]}\n",
    "#domains for lrrs: PF00560, PF07723, PF07725, PF12799, PF13306, PF13516, PF13855, PF14580, PF18805, PF18837\n",
    "domains_by_gene_family = {\"TLR\":[\"PF18452\",\"PF18805\"]}\n",
    "filename_template=\"a_cytherea_soft_mask_braker_{domain}_full_profile_hmmer_braker3_results.txt\"\n",
    "for gene_family in domains_by_gene_family.keys():\n",
    "    domains=domains_by_gene_family[gene_family]\n",
    "    print(domains)\n",
    "    results ={}\n",
    "    for domain in domains:\n",
    "        #figure out file name for current domain\n",
    "        domain_file=filename_template.format(domain=domain)\n",
    "        print(domain_file)\n",
    "        domain_file_path=os.path.join(input_hmmer_dir,domain_file)\n",
    "        print(domain_file_path)\n",
    "        for domain_2 in domains:\n",
    "            domain_file_2=filename_template.format(domain=domain_2)\n",
    "            print(domain_file_2)\n",
    "            domain_file_path_2=os.path.join(input_hmmer_dir,domain_file_2)\n",
    "            print(domain_file_path_2)\n",
    "            gene_ids=find_shared_domains(domain_file_path,domain_file_path_2)\n",
    "            print(gene_ids)\n",
    "            if not results:\n",
    "                results=gene_ids\n",
    "            results=results.intersection(gene_ids)\n",
    "            print(len(results))\n",
    "            "
   ]
  },
  {
   "cell_type": "code",
   "execution_count": 10,
   "metadata": {},
   "outputs": [
    {
     "ename": "NameError",
     "evalue": "name 'domain_file' is not defined",
     "output_type": "error",
     "traceback": [
      "\u001b[0;31m---------------------------------------------------------------------------\u001b[0m",
      "\u001b[0;31mNameError\u001b[0m                                 Traceback (most recent call last)",
      "\u001b[0;32m/tmp/ipykernel_4736/1386938106.py\u001b[0m in \u001b[0;36m<cell line: 2>\u001b[0;34m()\u001b[0m\n\u001b[1;32m      1\u001b[0m \u001b[0;31m#Need to extract some parts of the files used to write to the common output file.\u001b[0m\u001b[0;34m\u001b[0m\u001b[0;34m\u001b[0m\u001b[0;34m\u001b[0m\u001b[0m\n\u001b[0;32m----> 2\u001b[0;31m \u001b[0mspecies\u001b[0m \u001b[0;34m=\u001b[0m \u001b[0mos\u001b[0m\u001b[0;34m.\u001b[0m\u001b[0mpath\u001b[0m\u001b[0;34m.\u001b[0m\u001b[0mbasename\u001b[0m\u001b[0;34m(\u001b[0m\u001b[0mdomain_file\u001b[0m\u001b[0;34m[\u001b[0m\u001b[0;34m:\u001b[0m\u001b[0mdomain_file\u001b[0m\u001b[0;34m.\u001b[0m\u001b[0mindex\u001b[0m\u001b[0;34m(\u001b[0m\u001b[0;34m'_soft'\u001b[0m\u001b[0;34m)\u001b[0m\u001b[0;34m]\u001b[0m\u001b[0;34m)\u001b[0m\u001b[0;34m\u001b[0m\u001b[0;34m\u001b[0m\u001b[0m\n\u001b[0m\u001b[1;32m      3\u001b[0m \u001b[0mprint\u001b[0m\u001b[0;34m(\u001b[0m\u001b[0mspecies\u001b[0m\u001b[0;34m)\u001b[0m\u001b[0;34m\u001b[0m\u001b[0;34m\u001b[0m\u001b[0m\n\u001b[1;32m      4\u001b[0m \u001b[0;31m#pfam_file_1 = os.path.basename(domain_file.split(\"_\")[-2])#change to -1 for nontest sequences\u001b[0m\u001b[0;34m\u001b[0m\u001b[0;34m\u001b[0m\u001b[0;34m\u001b[0m\u001b[0m\n\u001b[1;32m      5\u001b[0m \u001b[0;31m#print(pfam_file_1)\u001b[0m\u001b[0;34m\u001b[0m\u001b[0;34m\u001b[0m\u001b[0;34m\u001b[0m\u001b[0m\n",
      "\u001b[0;31mNameError\u001b[0m: name 'domain_file' is not defined"
     ]
    }
   ],
   "source": [
    "#Need to extract some parts of the files used to write to the common output file.\n",
    "species = os.path.basename(domain_file[:domain_file.index('_soft')])\n",
    "print(species)\n",
    "#pfam_file_1 = os.path.basename(domain_file.split(\"_\")[-2])#change to -1 for nontest sequences\n",
    "#print(pfam_file_1)\n",
    "#pfam_file_2 = os.path.basename(domain_file_2.split(\"_\")[-2])#change to -1 for nontest sequences\n",
    "#print(pfam_file_2)\n",
    "pfam_string = str(domains)[1:-1]\n",
    "pfam_replace_1 = pfam_string.replace(\"'\",\"\")\n",
    "pfam_compare = pfam_replace_1.replace(\",\",\"_\")\n",
    "#pfam_compare = pfam_file_1 + \" \" + pfam_file_2\n",
    "print(pfam_compare)\n"
   ]
  },
  {
   "cell_type": "code",
   "execution_count": 36,
   "metadata": {},
   "outputs": [
    {
     "name": "stdout",
     "output_type": "stream",
     "text": [
      "{'TLR': ['g11295', 'g21206', 'g3982', 'g18447', 'g6932', 'g9778']}\n",
      "['g11295', 'g21206', 'g3982', 'g18447', 'g6932', 'g9778']\n"
     ]
    }
   ],
   "source": [
    "print(gene_ids_by_gene_family)\n",
    "print(gene_ids_by_gene_family['TLR'])"
   ]
  },
  {
   "cell_type": "code",
   "execution_count": 37,
   "metadata": {},
   "outputs": [],
   "source": [
    "gene_id_intersection = gene_ids_by_gene_family['TLR']"
   ]
  },
  {
   "cell_type": "code",
   "execution_count": 25,
   "metadata": {},
   "outputs": [],
   "source": [
    "#need to write each shared domain to a file\n",
    "#NOTE: union comand releases output as a set. \n",
    "\n",
    "gene_ids_by_gene_family\n",
    "\n",
    "with open(output_filepath, \"a\") as comparison_file:\n",
    "    #writer=csv.DictWriter(comparison_file, fieldnames=shared_domains)\n",
    "    for gene_id in results:\n",
    "        print(f\"Writing output file: {species}, {pfam_compare}, {gene_id}\")\n",
    "        #we have a problem in the output... it is seperating pfam compare into its own columns.\n",
    "        #I want them as one column with all domains.\n",
    "        row=[(species),(pfam_compare),(gene_id)]\n",
    "        row=\"\\t\".join(map(str,row))\n",
    "        comparison_file.write(row + \"\\n\")"
   ]
  },
  {
   "cell_type": "code",
   "execution_count": 58,
   "metadata": {},
   "outputs": [
    {
     "name": "stdout",
     "output_type": "stream",
     "text": [
      "Writing output file: a_cytherea, g11295\n",
      "Writing output file: a_cytherea, g21206\n",
      "Writing output file: a_cytherea, g3982\n",
      "Writing output file: a_cytherea, g18447\n",
      "Writing output file: a_cytherea, g6932\n",
      "Writing output file: a_cytherea, g9778\n"
     ]
    }
   ],
   "source": [
    "with open(output_filepath, \"a\") as comparison_file:\n",
    "    #writer=csv.DictWriter(comparison_file, fieldnames=shared_domains)\n",
    "    for gene_family in gene_id_intersection:\n",
    "        print(f\"Writing output file: {coral_species}, {gene_family}\")\n",
    "        #we have a problem in the output... it is seperating pfam compare into its own columns.\n",
    "        #I want them as one column with all domains.\n",
    "        #I still can't get the pfamdomain here which I think is important\n",
    "        row=[(coral_species),(gene_family)]\n",
    "        row=\"\\t\".join(map(str,row))\n",
    "        comparison_file.write(row + \"\\n\")"
   ]
  },
  {
   "cell_type": "code",
   "execution_count": 27,
   "metadata": {},
   "outputs": [
    {
     "name": "stdout",
     "output_type": "stream",
     "text": [
      "Help on function greet in module __main__:\n",
      "\n",
      "greet(name, greeting='Hello')\n",
      "    Print a greeting based on a name.\n",
      "    name -- string of the name of the person to greet\n",
      "    greeting -- string for the greeting\n",
      "\n"
     ]
    }
   ],
   "source": [
    "def greet(name,greeting=\"Hello\"):\n",
    "    \"\"\"Print a greeting based on a name.\n",
    "    name -- string of the name of the person to greet\n",
    "    greeting -- string for the greeting\n",
    "    \"\"\"\n",
    "    print(greeting, name)\n",
    "help(greet)"
   ]
  },
  {
   "cell_type": "code",
   "execution_count": 18,
   "metadata": {},
   "outputs": [
    {
     "ename": "NameError",
     "evalue": "name 'input_hmmer_dir_cnid' is not defined",
     "output_type": "error",
     "traceback": [
      "\u001b[0;31m---------------------------------------------------------------------------\u001b[0m",
      "\u001b[0;31mNameError\u001b[0m                                 Traceback (most recent call last)",
      "\u001b[0;32m<ipython-input-18-55aeecfffef5>\u001b[0m in \u001b[0;36m<module>\u001b[0;34m\u001b[0m\n\u001b[1;32m      1\u001b[0m \u001b[0;31m#first loop through files in the output for hmmer output txt\u001b[0m\u001b[0;34m\u001b[0m\u001b[0;34m\u001b[0m\u001b[0;34m\u001b[0m\u001b[0m\n\u001b[0;32m----> 2\u001b[0;31m \u001b[0;32mfor\u001b[0m \u001b[0mresults_file\u001b[0m \u001b[0;32min\u001b[0m \u001b[0mos\u001b[0m\u001b[0;34m.\u001b[0m\u001b[0mlistdir\u001b[0m\u001b[0;34m(\u001b[0m\u001b[0minput_hmmer_dir_cnid\u001b[0m\u001b[0;34m)\u001b[0m\u001b[0;34m:\u001b[0m\u001b[0;34m\u001b[0m\u001b[0;34m\u001b[0m\u001b[0m\n\u001b[0m\u001b[1;32m      3\u001b[0m     \u001b[0;32mif\u001b[0m \u001b[0;32mnot\u001b[0m \u001b[0mresults_file\u001b[0m\u001b[0;34m.\u001b[0m\u001b[0mendswith\u001b[0m\u001b[0;34m(\u001b[0m\u001b[0;34m\".txt\"\u001b[0m\u001b[0;34m)\u001b[0m\u001b[0;34m:\u001b[0m\u001b[0;34m\u001b[0m\u001b[0;34m\u001b[0m\u001b[0m\n\u001b[1;32m      4\u001b[0m         \u001b[0;32mcontinue\u001b[0m\u001b[0;34m\u001b[0m\u001b[0;34m\u001b[0m\u001b[0m\n\u001b[1;32m      5\u001b[0m     \u001b[0;31m#compare file names with the same species name\u001b[0m\u001b[0;34m\u001b[0m\u001b[0;34m\u001b[0m\u001b[0;34m\u001b[0m\u001b[0m\n",
      "\u001b[0;31mNameError\u001b[0m: name 'input_hmmer_dir_cnid' is not defined"
     ]
    }
   ],
   "source": [
    "#first loop through files in the output for hmmer output txt\n",
    "for results_file in os.listdir(input_hmmer_dir_cnid):\n",
    "    if not results_file.endswith(\".txt\"):\n",
    "        continue\n",
    "    #compare file names with the same species name\n",
    "    species_name = results_file[:results_file.index('longest')]\n",
    "    if species_name == species_name_2:\n",
    "        filecmp.cmp(file1,file2)"
   ]
  },
  {
   "cell_type": "code",
   "execution_count": null,
   "metadata": {},
   "outputs": [],
   "source": []
  }
 ],
 "metadata": {
  "kernelspec": {
   "display_name": "Python 3 (ipykernel)",
   "language": "python",
   "name": "python3"
  },
  "language_info": {
   "codemirror_mode": {
    "name": "ipython",
    "version": 3
   },
   "file_extension": ".py",
   "mimetype": "text/x-python",
   "name": "python",
   "nbconvert_exporter": "python",
   "pygments_lexer": "ipython3",
   "version": "3.8.19"
  }
 },
 "nbformat": 4,
 "nbformat_minor": 4
}
